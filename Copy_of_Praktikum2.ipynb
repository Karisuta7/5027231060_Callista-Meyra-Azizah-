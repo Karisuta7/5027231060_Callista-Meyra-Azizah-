{
  "nbformat": 4,
  "nbformat_minor": 0,
  "metadata": {
    "colab": {
      "provenance": [],
      "mount_file_id": "14n5BkJOBVddB-sVNm6rZpTBIS-Jrl75n",
      "authorship_tag": "ABX9TyOHq4SZ5WlKbemdoaIs1BtO",
      "include_colab_link": true
    },
    "kernelspec": {
      "name": "python3",
      "display_name": "Python 3"
    },
    "language_info": {
      "name": "python"
    }
  },
  "cells": [
    {
      "cell_type": "markdown",
      "metadata": {
        "id": "view-in-github",
        "colab_type": "text"
      },
      "source": [
        "<a href=\"https://colab.research.google.com/github/Karisuta7/5027231060_Callista-Meyra-Azizah-/blob/main/Copy_of_Praktikum2.ipynb\" target=\"_parent\"><img src=\"https://colab.research.google.com/assets/colab-badge.svg\" alt=\"Open In Colab\"/></a>"
      ]
    },
    {
      "cell_type": "markdown",
      "source": [
        "# Laporan Proyek Prediksi Waktu Pengiriman - Rumah Makan Orb (チ。)\n",
        "\n",
        "```\n",
        "Nama: Callista Meyra Azizah\n",
        "NRP: 5027231060\n",
        "Kelas: AI-A\n",
        "```\n",
        "\n"
      ],
      "metadata": {
        "id": "fcnIwj-x0xqq"
      }
    },
    {
      "cell_type": "code",
      "source": [],
      "metadata": {
        "id": "pHQ4v5sXK6bm"
      },
      "execution_count": null,
      "outputs": []
    },
    {
      "cell_type": "markdown",
      "source": [],
      "metadata": {
        "id": "K3-DTy5f5eA9"
      }
    },
    {
      "cell_type": "code",
      "execution_count": null,
      "metadata": {
        "id": "nvImIA780Dgy"
      },
      "outputs": [],
      "source": [
        "import pandas as pd\n",
        "import seaborn as sns\n",
        "import matplotlib.pyplot as plt\n",
        "\n",
        "path = '/content/drive/MyDrive/P2AI/'\n",
        "\n",
        "train = pd.read_csv(path + 'train.csv')\n",
        "test = pd.read_csv(path + 'test.csv')\n",
        "submission = pd.read_csv(path + 'submission.csv')\n"
      ]
    },
    {
      "cell_type": "markdown",
      "source": [
        "Lihat bentuk datanya dan cek missing values:"
      ],
      "metadata": {
        "id": "Jp8vGsHObiZO"
      }
    },
    {
      "cell_type": "code",
      "source": [
        "print(train.shape)\n",
        "train.info()\n",
        "train.describe()\n",
        "train.isnull().sum()\n"
      ],
      "metadata": {
        "colab": {
          "base_uri": "https://localhost:8080/",
          "height": 1000
        },
        "id": "oDhDIj-hbjBs",
        "outputId": "ad7ff67b-f29f-4e87-fa2c-b4f4470779c7"
      },
      "execution_count": null,
      "outputs": [
        {
          "output_type": "stream",
          "name": "stdout",
          "text": [
            "(700, 19)\n",
            "<class 'pandas.core.frame.DataFrame'>\n",
            "RangeIndex: 700 entries, 0 to 699\n",
            "Data columns (total 19 columns):\n",
            " #   Column                  Non-Null Count  Dtype  \n",
            "---  ------                  --------------  -----  \n",
            " 0   ID_Pesanan              700 non-null    int64  \n",
            " 1   Jenis_Kelamin           700 non-null    object \n",
            " 2   Jarak_km                700 non-null    float64\n",
            " 3   Cuaca                   682 non-null    object \n",
            " 4   Tingkat_Kemacetan       677 non-null    object \n",
            " 5   Waktu                   678 non-null    object \n",
            " 6   Tipe_Kendaraan          700 non-null    object \n",
            " 7   Waktu_Persiapan_menit   700 non-null    int64  \n",
            " 8   Metode_Pembayaran       700 non-null    object \n",
            " 9   Tahun_Masuk             700 non-null    int64  \n",
            " 10  Total_Pesanan           673 non-null    float64\n",
            " 11  Harga_Makanan           264 non-null    float64\n",
            " 12  Menggunakan_Voucher     700 non-null    object \n",
            " 13  Biaya_Pengiriman        700 non-null    int64  \n",
            " 14  Nama_Penerima           700 non-null    object \n",
            " 15  Alamat_Penerima         700 non-null    object \n",
            " 16  No_Telp_Penerima        700 non-null    int64  \n",
            " 17  Status                  700 non-null    object \n",
            " 18  Waktu_Pengiriman_menit  700 non-null    int64  \n",
            "dtypes: float64(3), int64(6), object(10)\n",
            "memory usage: 104.0+ KB\n"
          ]
        },
        {
          "output_type": "execute_result",
          "data": {
            "text/plain": [
              "ID_Pesanan                  0\n",
              "Jenis_Kelamin               0\n",
              "Jarak_km                    0\n",
              "Cuaca                      18\n",
              "Tingkat_Kemacetan          23\n",
              "Waktu                      22\n",
              "Tipe_Kendaraan              0\n",
              "Waktu_Persiapan_menit       0\n",
              "Metode_Pembayaran           0\n",
              "Tahun_Masuk                 0\n",
              "Total_Pesanan              27\n",
              "Harga_Makanan             436\n",
              "Menggunakan_Voucher         0\n",
              "Biaya_Pengiriman            0\n",
              "Nama_Penerima               0\n",
              "Alamat_Penerima             0\n",
              "No_Telp_Penerima            0\n",
              "Status                      0\n",
              "Waktu_Pengiriman_menit      0\n",
              "dtype: int64"
            ],
            "text/html": [
              "<div>\n",
              "<style scoped>\n",
              "    .dataframe tbody tr th:only-of-type {\n",
              "        vertical-align: middle;\n",
              "    }\n",
              "\n",
              "    .dataframe tbody tr th {\n",
              "        vertical-align: top;\n",
              "    }\n",
              "\n",
              "    .dataframe thead th {\n",
              "        text-align: right;\n",
              "    }\n",
              "</style>\n",
              "<table border=\"1\" class=\"dataframe\">\n",
              "  <thead>\n",
              "    <tr style=\"text-align: right;\">\n",
              "      <th></th>\n",
              "      <th>0</th>\n",
              "    </tr>\n",
              "  </thead>\n",
              "  <tbody>\n",
              "    <tr>\n",
              "      <th>ID_Pesanan</th>\n",
              "      <td>0</td>\n",
              "    </tr>\n",
              "    <tr>\n",
              "      <th>Jenis_Kelamin</th>\n",
              "      <td>0</td>\n",
              "    </tr>\n",
              "    <tr>\n",
              "      <th>Jarak_km</th>\n",
              "      <td>0</td>\n",
              "    </tr>\n",
              "    <tr>\n",
              "      <th>Cuaca</th>\n",
              "      <td>18</td>\n",
              "    </tr>\n",
              "    <tr>\n",
              "      <th>Tingkat_Kemacetan</th>\n",
              "      <td>23</td>\n",
              "    </tr>\n",
              "    <tr>\n",
              "      <th>Waktu</th>\n",
              "      <td>22</td>\n",
              "    </tr>\n",
              "    <tr>\n",
              "      <th>Tipe_Kendaraan</th>\n",
              "      <td>0</td>\n",
              "    </tr>\n",
              "    <tr>\n",
              "      <th>Waktu_Persiapan_menit</th>\n",
              "      <td>0</td>\n",
              "    </tr>\n",
              "    <tr>\n",
              "      <th>Metode_Pembayaran</th>\n",
              "      <td>0</td>\n",
              "    </tr>\n",
              "    <tr>\n",
              "      <th>Tahun_Masuk</th>\n",
              "      <td>0</td>\n",
              "    </tr>\n",
              "    <tr>\n",
              "      <th>Total_Pesanan</th>\n",
              "      <td>27</td>\n",
              "    </tr>\n",
              "    <tr>\n",
              "      <th>Harga_Makanan</th>\n",
              "      <td>436</td>\n",
              "    </tr>\n",
              "    <tr>\n",
              "      <th>Menggunakan_Voucher</th>\n",
              "      <td>0</td>\n",
              "    </tr>\n",
              "    <tr>\n",
              "      <th>Biaya_Pengiriman</th>\n",
              "      <td>0</td>\n",
              "    </tr>\n",
              "    <tr>\n",
              "      <th>Nama_Penerima</th>\n",
              "      <td>0</td>\n",
              "    </tr>\n",
              "    <tr>\n",
              "      <th>Alamat_Penerima</th>\n",
              "      <td>0</td>\n",
              "    </tr>\n",
              "    <tr>\n",
              "      <th>No_Telp_Penerima</th>\n",
              "      <td>0</td>\n",
              "    </tr>\n",
              "    <tr>\n",
              "      <th>Status</th>\n",
              "      <td>0</td>\n",
              "    </tr>\n",
              "    <tr>\n",
              "      <th>Waktu_Pengiriman_menit</th>\n",
              "      <td>0</td>\n",
              "    </tr>\n",
              "  </tbody>\n",
              "</table>\n",
              "</div><br><label><b>dtype:</b> int64</label>"
            ]
          },
          "metadata": {},
          "execution_count": 19
        }
      ]
    },
    {
      "cell_type": "markdown",
      "source": [
        "Visualisasi distribusi Waktu_Pengiriman_menit:"
      ],
      "metadata": {
        "id": "6mCAncu1bnV0"
      }
    },
    {
      "cell_type": "code",
      "source": [
        "sns.histplot(train['Waktu_Pengiriman_menit'], kde=True, color='green')\n",
        "plt.title('Distribusi Waktu Pengiriman')\n",
        "plt.show()"
      ],
      "metadata": {
        "colab": {
          "base_uri": "https://localhost:8080/",
          "height": 472
        },
        "id": "mYcYGkJ5bpA0",
        "outputId": "05688367-a891-4609-e862-0c610be33fe5"
      },
      "execution_count": null,
      "outputs": [
        {
          "output_type": "display_data",
          "data": {
            "text/plain": [
              "<Figure size 640x480 with 1 Axes>"
            ],
            "image/png": "[encoded data removed]"
          },
          "metadata": {}
        }
      ]
    },
    {
      "cell_type": "markdown",
      "source": [
        "# **TAHAP PREPROCESSING**\n",
        "*  Menghapus kolom non-penting seperti `Nama_Penerima`, `Alamat_Penerima`, `No_Telp_Penerima`, dan `Status` karena tidak relevan terhadap prediksi waktu.\n",
        "\n",
        "**Menangani missing values:**\n",
        "*  Kolom **numerik** seperti `Total_Pesanan` dan `Harga_Makanan` diisi dengan **median** karena **robust terhadap outlier.**\n",
        "*  Kolom **kategorikal** seperti `Cuaca`, `Tingkat_Kemacetan`, dan `Waktu `diisi dengan **nilai modus (yang paling sering muncul).**\n",
        "\n",
        "**Encoding fitur kategorikal menggunakan Label Encoding**, agar bisa diproses oleh model seperti **Random Forest dan XGBoost.**\n",
        "\n",
        "\n"
      ],
      "metadata": {
        "id": "lkiw2wtOdc6q"
      }
    },
    {
      "cell_type": "code",
      "source": [
        "from sklearn.preprocessing import LabelEncoder\n",
        "\n",
        "def preprocess_data(df):\n",
        "    df = df.copy()\n",
        "\n",
        "    # Drop kolom yang tidak berguna\n",
        "    drop_cols = ['Nama_Penerima', 'Alamat_Penerima', 'No_Telp_Penerima', 'Status']\n",
        "    df.drop(columns=[col for col in drop_cols if col in df.columns], inplace=True)\n",
        "\n",
        "    # Isi missing values numerik dengan median\n",
        "    for col in ['Total_Pesanan', 'Harga_Makanan']:\n",
        "        df[col] = df[col].fillna(df[col].median())\n",
        "\n",
        "    # Isi missing values kategorikal dengan modus (nilai terbanyak)\n",
        "    for col in ['Cuaca', 'Tingkat_Kemacetan', 'Waktu']:\n",
        "        df[col] = df[col].fillna(df[col].mode()[0])\n",
        "\n",
        "    # Label Encoding untuk semua kolom kategorikal\n",
        "    for col in df.select_dtypes(include='object').columns:\n",
        "        df[col] = LabelEncoder().fit_transform(df[col])\n",
        "\n",
        "    return df\n"
      ],
      "metadata": {
        "id": "7V-Pe-q1fplh"
      },
      "execution_count": null,
      "outputs": []
    },
    {
      "cell_type": "code",
      "source": [
        "X = preprocess_data(X_raw)"
      ],
      "metadata": {
        "id": "kTJbEY1J2uab"
      },
      "execution_count": null,
      "outputs": []
    },
    {
      "cell_type": "markdown",
      "source": [
        "# **Pengecekan apakah masih ada *NULL* pada object dari csv yang telah diisi dengan Preprocessing sebelumnya**"
      ],
      "metadata": {
        "id": "6K945KM1fgb7"
      }
    },
    {
      "cell_type": "code",
      "source": [
        "print(X.isnull().sum())"
      ],
      "metadata": {
        "colab": {
          "base_uri": "https://localhost:8080/"
        },
        "id": "25lR8dE-3GRq",
        "outputId": "d5b5817b-0e54-492f-d8fa-5d8cbca209b4"
      },
      "execution_count": null,
      "outputs": [
        {
          "output_type": "stream",
          "name": "stdout",
          "text": [
            "ID_Pesanan               0\n",
            "Jenis_Kelamin            0\n",
            "Jarak_km                 0\n",
            "Cuaca                    0\n",
            "Tingkat_Kemacetan        0\n",
            "Waktu                    0\n",
            "Tipe_Kendaraan           0\n",
            "Waktu_Persiapan_menit    0\n",
            "Metode_Pembayaran        0\n",
            "Tahun_Masuk              0\n",
            "Total_Pesanan            0\n",
            "Harga_Makanan            0\n",
            "Menggunakan_Voucher      0\n",
            "Biaya_Pengiriman         0\n",
            "dtype: int64\n"
          ]
        }
      ]
    },
    {
      "cell_type": "markdown",
      "source": [
        "\n",
        "\n",
        "---\n",
        "\n",
        "\n",
        "# **Feature Importance** menggunakan **Random Forest** untuk melihat fitur paling berpengaruh:"
      ],
      "metadata": {
        "id": "JTbXILwFb5SN"
      }
    },
    {
      "cell_type": "code",
      "source": [
        "from sklearn.ensemble import RandomForestRegressor\n",
        "\n",
        "rf = RandomForestRegressor(random_state=42)\n",
        "rf.fit(X, y)\n",
        "\n",
        "importances = pd.Series(rf.feature_importances_, index=X.columns)\n",
        "importances.sort_values(ascending=True).plot(kind='barh', figsize=(10,6))\n",
        "plt.title(\"Feature Importance\")\n",
        "plt.xlabel(\"Importance\")\n",
        "plt.tight_layout()\n",
        "plt.show()\n"
      ],
      "metadata": {
        "colab": {
          "base_uri": "https://localhost:8080/",
          "height": 584
        },
        "id": "-gD9TzdrbxGh",
        "outputId": "69a6a01b-fc10-4663-df7e-f19765e21ebb"
      },
      "execution_count": null,
      "outputs": [
        {
          "output_type": "display_data",
          "data": {
            "text/plain": [
              "<Figure size 1000x600 with 1 Axes>"
            ],
            "image/png": "[encoded data removed]"
          },
          "metadata": {}
        }
      ]
    },
    {
      "cell_type": "markdown",
      "source": [
        "# **RESULT DARI DIAGRAM MENGENAI FITUR PALING BERPENGARUH:**\n",
        "\n",
        "1. `Jarak_km` merupakan fitur paling dominan dalam menentukan lama waktu pengiriman. Hal ini sangat logis karena semakin jauh lokasi pengantaran, maka waktu pengiriman pun cenderung lebih lama.\n",
        "\n",
        "2. `Waktu_Persiapan_menit` juga memiliki pengaruh besar, karena proses memasak/persiapan makanan memakan waktu sebelum makanan bisa dikirim.\n",
        "\n",
        "3. Fitur lain seperti` Tingkat_Kemacetan`, `Cuaca`, dan` Biaya_Pengiriman` punya pengaruh lebih kecil, tetapi masih relevan karena dapat memengaruhi kecepatan perjalanan kurir.\n",
        "\n",
        "Fitur lain seperti `Jenis_Kelamin`,` Metode_Pembayaran`, dan `Menggunakan_Voucher` memiliki pengaruh sangat kecil terhadap target, sehingga bisa dipertimbangkan untuk dihapus jika ingin menyederhanakan model."
      ],
      "metadata": {
        "id": "SLgSgu2zgeCi"
      }
    },
    {
      "cell_type": "markdown",
      "source": [
        "\n",
        "\n",
        "---\n",
        "\n",
        "# **Pelatihan Model (Model Training)**\n",
        "Untuk memprediksi waktu pengiriman makanan, dilakukan pelatihan model regresi menggunakan tiga algoritma berbeda, yaitu:\n",
        "\n",
        "* **Random Forest Regressor**\n",
        "* **XGBoost Regressor**\n",
        "* **LightGBM Regressor**\n",
        "\n",
        "Sebelum pelatihan, data terlebih dahulu dibagi menjadi training set dan validation set dengan perbandingan 80:20 menggunakan `train_test_split`.\n",
        "\n",
        "\n",
        "```\n",
        "X_train, X_val, y_train, y_val = train_test_split(X, y, test_size=0.2, random_state=42)\n",
        "\n",
        "```\n",
        "\n",
        "Masing-masing model kemudian dilatih dengan data latih (`X_train`, `y_train`) dan menghasilkan prediksi (`pred_rf`, `pred_xgb`, `pred_lgbm`) untuk data validasi `X_val`.\n",
        "\n",
        "# **Contoh Pelatihan Model:**\n",
        "\n",
        "```\n",
        "rf = RandomForestRegressor()\n",
        "rf.fit(X_train, y_train)\n",
        "pred_rf = rf.predict(X_val)\n",
        "```\n",
        "\n"
      ],
      "metadata": {
        "id": "Cxb0GXwNgfNa"
      }
    },
    {
      "cell_type": "code",
      "source": [
        "from sklearn.model_selection import train_test_split\n",
        "from sklearn.metrics import mean_absolute_error, mean_squared_error, r2_score\n",
        "import numpy as np\n",
        "\n",
        "X_train, X_val, y_train, y_val = train_test_split(X, y, test_size=0.2, random_state=42)\n",
        "\n",
        "# Model 1: Random Forest\n",
        "rf = RandomForestRegressor()\n",
        "rf.fit(X_train, y_train)\n",
        "pred_rf = rf.predict(X_val)\n",
        "\n",
        "# Model 2: XGBoost\n",
        "from xgboost import XGBRegressor\n",
        "xgb = XGBRegressor()\n",
        "xgb.fit(X_train, y_train)\n",
        "pred_xgb = xgb.predict(X_val)\n",
        "\n",
        "from lightgbm import LGBMRegressor\n",
        "\n",
        "# Model 3: LightGBM\n",
        "lgbm = LGBMRegressor()\n",
        "lgbm.fit(X_train, y_train)\n",
        "pred_lgbm = lgbm.predict(X_val)\n",
        "\n"
      ],
      "metadata": {
        "colab": {
          "base_uri": "https://localhost:8080/"
        },
        "id": "ual5G-8UgeWp",
        "outputId": "b157eff2-9afb-4c3c-c35e-76ee23ce327a"
      },
      "execution_count": null,
      "outputs": [
        {
          "output_type": "stream",
          "name": "stdout",
          "text": [
            "[LightGBM] [Info] Auto-choosing row-wise multi-threading, the overhead of testing was 0.001140 seconds.\n",
            "You can set `force_row_wise=true` to remove the overhead.\n",
            "And if memory is not enough, you can set `force_col_wise=true`.\n",
            "[LightGBM] [Info] Total Bins 457\n",
            "[LightGBM] [Info] Number of data points in the train set: 560, number of used features: 14\n",
            "[LightGBM] [Info] Start training from score 55.553571\n",
            "[LightGBM] [Warning] No further splits with positive gain, best gain: -inf\n",
            "[LightGBM] [Warning] No further splits with positive gain, best gain: -inf\n",
            "[LightGBM] [Warning] No further splits with positive gain, best gain: -inf\n",
            "[LightGBM] [Warning] No further splits with positive gain, best gain: -inf\n",
            "[LightGBM] [Warning] No further splits with positive gain, best gain: -inf\n",
            "[LightGBM] [Warning] No further splits with positive gain, best gain: -inf\n",
            "[LightGBM] [Warning] No further splits with positive gain, best gain: -inf\n",
            "[LightGBM] [Warning] No further splits with positive gain, best gain: -inf\n",
            "[LightGBM] [Warning] No further splits with positive gain, best gain: -inf\n",
            "[LightGBM] [Warning] No further splits with positive gain, best gain: -inf\n",
            "[LightGBM] [Warning] No further splits with positive gain, best gain: -inf\n",
            "[LightGBM] [Warning] No further splits with positive gain, best gain: -inf\n",
            "[LightGBM] [Warning] No further splits with positive gain, best gain: -inf\n",
            "[LightGBM] [Warning] No further splits with positive gain, best gain: -inf\n",
            "[LightGBM] [Warning] No further splits with positive gain, best gain: -inf\n",
            "[LightGBM] [Warning] No further splits with positive gain, best gain: -inf\n",
            "[LightGBM] [Warning] No further splits with positive gain, best gain: -inf\n",
            "[LightGBM] [Warning] No further splits with positive gain, best gain: -inf\n",
            "[LightGBM] [Warning] No further splits with positive gain, best gain: -inf\n",
            "[LightGBM] [Warning] No further splits with positive gain, best gain: -inf\n",
            "[LightGBM] [Warning] No further splits with positive gain, best gain: -inf\n",
            "[LightGBM] [Warning] No further splits with positive gain, best gain: -inf\n",
            "[LightGBM] [Warning] No further splits with positive gain, best gain: -inf\n",
            "[LightGBM] [Warning] No further splits with positive gain, best gain: -inf\n",
            "[LightGBM] [Warning] No further splits with positive gain, best gain: -inf\n",
            "[LightGBM] [Warning] No further splits with positive gain, best gain: -inf\n",
            "[LightGBM] [Warning] No further splits with positive gain, best gain: -inf\n",
            "[LightGBM] [Warning] No further splits with positive gain, best gain: -inf\n",
            "[LightGBM] [Warning] No further splits with positive gain, best gain: -inf\n",
            "[LightGBM] [Warning] No further splits with positive gain, best gain: -inf\n",
            "[LightGBM] [Warning] No further splits with positive gain, best gain: -inf\n",
            "[LightGBM] [Warning] No further splits with positive gain, best gain: -inf\n",
            "[LightGBM] [Warning] No further splits with positive gain, best gain: -inf\n",
            "[LightGBM] [Warning] No further splits with positive gain, best gain: -inf\n",
            "[LightGBM] [Warning] No further splits with positive gain, best gain: -inf\n",
            "[LightGBM] [Warning] No further splits with positive gain, best gain: -inf\n",
            "[LightGBM] [Warning] No further splits with positive gain, best gain: -inf\n",
            "[LightGBM] [Warning] No further splits with positive gain, best gain: -inf\n",
            "[LightGBM] [Warning] No further splits with positive gain, best gain: -inf\n",
            "[LightGBM] [Warning] No further splits with positive gain, best gain: -inf\n",
            "[LightGBM] [Warning] No further splits with positive gain, best gain: -inf\n",
            "[LightGBM] [Warning] No further splits with positive gain, best gain: -inf\n",
            "[LightGBM] [Warning] No further splits with positive gain, best gain: -inf\n",
            "[LightGBM] [Warning] No further splits with positive gain, best gain: -inf\n",
            "[LightGBM] [Warning] No further splits with positive gain, best gain: -inf\n",
            "[LightGBM] [Warning] No further splits with positive gain, best gain: -inf\n",
            "[LightGBM] [Warning] No further splits with positive gain, best gain: -inf\n",
            "[LightGBM] [Warning] No further splits with positive gain, best gain: -inf\n",
            "[LightGBM] [Warning] No further splits with positive gain, best gain: -inf\n",
            "[LightGBM] [Warning] No further splits with positive gain, best gain: -inf\n",
            "[LightGBM] [Warning] No further splits with positive gain, best gain: -inf\n",
            "[LightGBM] [Warning] No further splits with positive gain, best gain: -inf\n",
            "[LightGBM] [Warning] No further splits with positive gain, best gain: -inf\n",
            "[LightGBM] [Warning] No further splits with positive gain, best gain: -inf\n",
            "[LightGBM] [Warning] No further splits with positive gain, best gain: -inf\n",
            "[LightGBM] [Warning] No further splits with positive gain, best gain: -inf\n",
            "[LightGBM] [Warning] No further splits with positive gain, best gain: -inf\n",
            "[LightGBM] [Warning] No further splits with positive gain, best gain: -inf\n",
            "[LightGBM] [Warning] No further splits with positive gain, best gain: -inf\n",
            "[LightGBM] [Warning] No further splits with positive gain, best gain: -inf\n",
            "[LightGBM] [Warning] No further splits with positive gain, best gain: -inf\n",
            "[LightGBM] [Warning] No further splits with positive gain, best gain: -inf\n",
            "[LightGBM] [Warning] No further splits with positive gain, best gain: -inf\n",
            "[LightGBM] [Warning] No further splits with positive gain, best gain: -inf\n",
            "[LightGBM] [Warning] No further splits with positive gain, best gain: -inf\n",
            "[LightGBM] [Warning] No further splits with positive gain, best gain: -inf\n",
            "[LightGBM] [Warning] No further splits with positive gain, best gain: -inf\n",
            "[LightGBM] [Warning] No further splits with positive gain, best gain: -inf\n",
            "[LightGBM] [Warning] No further splits with positive gain, best gain: -inf\n",
            "[LightGBM] [Warning] No further splits with positive gain, best gain: -inf\n",
            "[LightGBM] [Warning] No further splits with positive gain, best gain: -inf\n",
            "[LightGBM] [Warning] No further splits with positive gain, best gain: -inf\n",
            "[LightGBM] [Warning] No further splits with positive gain, best gain: -inf\n",
            "[LightGBM] [Warning] No further splits with positive gain, best gain: -inf\n",
            "[LightGBM] [Warning] No further splits with positive gain, best gain: -inf\n",
            "[LightGBM] [Warning] No further splits with positive gain, best gain: -inf\n",
            "[LightGBM] [Warning] No further splits with positive gain, best gain: -inf\n",
            "[LightGBM] [Warning] No further splits with positive gain, best gain: -inf\n",
            "[LightGBM] [Warning] No further splits with positive gain, best gain: -inf\n",
            "[LightGBM] [Warning] No further splits with positive gain, best gain: -inf\n",
            "[LightGBM] [Warning] No further splits with positive gain, best gain: -inf\n",
            "[LightGBM] [Warning] No further splits with positive gain, best gain: -inf\n",
            "[LightGBM] [Warning] No further splits with positive gain, best gain: -inf\n",
            "[LightGBM] [Warning] No further splits with positive gain, best gain: -inf\n",
            "[LightGBM] [Warning] No further splits with positive gain, best gain: -inf\n",
            "[LightGBM] [Warning] No further splits with positive gain, best gain: -inf\n",
            "[LightGBM] [Warning] No further splits with positive gain, best gain: -inf\n",
            "[LightGBM] [Warning] No further splits with positive gain, best gain: -inf\n",
            "[LightGBM] [Warning] No further splits with positive gain, best gain: -inf\n",
            "[LightGBM] [Warning] No further splits with positive gain, best gain: -inf\n",
            "[LightGBM] [Warning] No further splits with positive gain, best gain: -inf\n",
            "[LightGBM] [Warning] No further splits with positive gain, best gain: -inf\n",
            "[LightGBM] [Warning] No further splits with positive gain, best gain: -inf\n",
            "[LightGBM] [Warning] No further splits with positive gain, best gain: -inf\n",
            "[LightGBM] [Warning] No further splits with positive gain, best gain: -inf\n",
            "[LightGBM] [Warning] No further splits with positive gain, best gain: -inf\n",
            "[LightGBM] [Warning] No further splits with positive gain, best gain: -inf\n",
            "[LightGBM] [Warning] No further splits with positive gain, best gain: -inf\n",
            "[LightGBM] [Warning] No further splits with positive gain, best gain: -inf\n",
            "[LightGBM] [Warning] No further splits with positive gain, best gain: -inf\n"
          ]
        }
      ]
    },
    {
      "cell_type": "markdown",
      "source": [
        "# **Kenapa Model Random Forest, XGBoost, dan LightGBM Dipilih?**\n",
        "* **Random Forest:**\tCocok untuk **data tabular**, **robust terhadap outlier & overfitting**, serta **interpretatif lewat feature importance.**\n",
        "* **XGBoost:**\t**Model boosting** yang **sangat powerful** dan **sering unggul di kompetisi.** Memiliki **kemampuan generalisasi** yang **baik.**\n",
        "* **LightGBM:** **Alternatif boosting** yang **lebih ringan dan cepat dibanding XGBoost.** Efisien pada data berukuran besar.\n",
        "\n",
        "\n",
        "---\n",
        "\n"
      ],
      "metadata": {
        "id": "DRfGqOivhtGY"
      }
    },
    {
      "cell_type": "code",
      "source": [
        "\n",
        "def evaluate(y_true, y_pred, model_name):\n",
        "    print(f\"{model_name}:\")\n",
        "    print(\"MAE :\", mean_absolute_error(y_true, y_pred))\n",
        "    print(\"MSE :\", mean_squared_error(y_true, y_pred))\n",
        "    print(\"RMSE:\", np.sqrt(mean_squared_error(y_true, y_pred)))\n",
        "    print(\"R2  :\", r2_score(y_true, y_pred))\n",
        "    print(\"-\" * 30)\n",
        "\n",
        "evaluate(y_val, pred_rf, \"Random Forest\")\n",
        "evaluate(y_val, pred_xgb, \"XGBoost\")\n",
        "evaluate(y_val, pred_lgbm, \"LightGBM\")\n"
      ],
      "metadata": {
        "colab": {
          "base_uri": "https://localhost:8080/"
        },
        "id": "14Lw7KSrgpl9",
        "outputId": "6b5c70c2-98d6-41fd-af1b-7265043ae60f"
      },
      "execution_count": null,
      "outputs": [
        {
          "output_type": "stream",
          "name": "stdout",
          "text": [
            "Random Forest:\n",
            "MAE : 9.182785714285714\n",
            "MSE : 182.42975642857144\n",
            "RMSE: 13.506656004673083\n",
            "R2  : 0.6513989552955894\n",
            "------------------------------\n",
            "XGBoost:\n",
            "MAE : 9.713115692138672\n",
            "MSE : 211.74594116210938\n",
            "RMSE: 14.551492746866534\n",
            "R2  : 0.5953792929649353\n",
            "------------------------------\n",
            "LightGBM:\n",
            "MAE : 8.563207927940446\n",
            "MSE : 177.4635823464802\n",
            "RMSE: 13.321545794181702\n",
            "R2  : 0.660888709089559\n",
            "------------------------------\n"
          ]
        }
      ]
    },
    {
      "cell_type": "code",
      "source": [
        "X_test = preprocess_data(test)\n",
        "y_pred = rf.predict(X_test)\n",
        "pred_df = pd.DataFrame({\n",
        "    \"ID_Pesanan\": test[\"ID_Pesanan\"],\n",
        "    \"Waktu_Pengiriman_menit\": y_pred.astype(int)\n",
        "})\n",
        "\n",
        "pred_df.to_csv(\"submission_fix.csv\", index=False)\n",
        "print(pred_df.head())\n",
        "print(pred_df.isnull().sum())\n",
        "print(pred_df[\"Waktu_Pengiriman_menit\"].describe())\n"
      ],
      "metadata": {
        "colab": {
          "base_uri": "https://localhost:8080/"
        },
        "id": "aqLZpsBEhDYV",
        "outputId": "ca9f04b3-6e70-4202-b98e-1ab330fe7068"
      },
      "execution_count": null,
      "outputs": [
        {
          "output_type": "stream",
          "name": "stdout",
          "text": [
            "   ID_Pesanan  Waktu_Pengiriman_menit\n",
            "0         989                      53\n",
            "1         174                      37\n",
            "2         761                      39\n",
            "3         494                      30\n",
            "4         924                      69\n",
            "ID_Pesanan                0\n",
            "Waktu_Pengiriman_menit    0\n",
            "dtype: int64\n",
            "count    300.000000\n",
            "mean      57.546667\n",
            "std       19.093008\n",
            "min       15.000000\n",
            "25%       42.000000\n",
            "50%       58.000000\n",
            "75%       72.000000\n",
            "max      102.000000\n",
            "Name: Waktu_Pengiriman_menit, dtype: float64\n"
          ]
        }
      ]
    },
    {
      "cell_type": "markdown",
      "source": [
        "Membuat save file untuk submission di Kaggle"
      ],
      "metadata": {
        "id": "i9G7YMT85n4R"
      }
    },
    {
      "cell_type": "code",
      "source": [
        "pred_df.to_csv(\"submission_fix2.csv\", index=False)"
      ],
      "metadata": {
        "id": "wvvoMvP31uEv"
      },
      "execution_count": null,
      "outputs": []
    }
  ]
}